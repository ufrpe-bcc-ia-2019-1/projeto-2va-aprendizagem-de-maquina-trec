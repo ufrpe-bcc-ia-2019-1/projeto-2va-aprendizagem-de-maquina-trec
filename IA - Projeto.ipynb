{
 "cells": [
  {
   "cell_type": "code",
   "execution_count": 57,
   "metadata": {},
   "outputs": [
    {
     "name": "stdout",
     "output_type": "stream",
     "text": [
      "['DESC', 'ENTY', 'ABBR', 'HUM', 'NUM', 'LOC']\n"
     ]
    }
   ],
   "source": [
    "trainSet1 = open(\"C:/Users/Paulo/Desktop/BCC/3º Período/IA/PROJETO VA2/Training set 1.txt\", 'r')\n",
    "\n",
    "categorias1 = []\n",
    "\n",
    "for line in trainSet1:\n",
    "    if(line.strip().split(':')[0] not in categorias1):\n",
    "        categorias1.append(line.strip().split(':')[0])\n",
    "\n",
    "print(categorias1)\n",
    "\n",
    "#trainSet1.close()"
   ]
  },
  {
   "cell_type": "code",
   "execution_count": 58,
   "metadata": {},
   "outputs": [
    {
     "name": "stdout",
     "output_type": "stream",
     "text": [
      "['DESC', 'ENTY', 'ABBR', 'HUM', 'NUM', 'LOC']\n"
     ]
    }
   ],
   "source": [
    "trainSet2 = open(\"C:/Users/Paulo/Desktop/BCC/3º Período/IA/PROJETO VA2/Training set 2.txt\", 'r')\n",
    "\n",
    "categorias2 = []\n",
    "\n",
    "for line in trainSet2:\n",
    "    if(line.strip().split(':')[0] not in categorias2):\n",
    "        categorias2.append(line.strip().split(':')[0])\n",
    "\n",
    "print(categorias2)\n",
    "\n",
    "trainSet2.close()"
   ]
  },
  {
   "cell_type": "code",
   "execution_count": 59,
   "metadata": {},
   "outputs": [
    {
     "name": "stdout",
     "output_type": "stream",
     "text": [
      "['DESC', 'ENTY', 'ABBR', 'HUM', 'NUM', 'LOC']\n"
     ]
    }
   ],
   "source": [
    "trainSet3 = open(\"C:/Users/Paulo/Desktop/BCC/3º Período/IA/PROJETO VA2/Training set 3.txt\", 'r')\n",
    "\n",
    "categorias3 = []\n",
    "\n",
    "for line in trainSet3:\n",
    "    if(line.strip().split(':')[0] not in categorias3):\n",
    "        categorias3.append(line.strip().split(':')[0])\n",
    "\n",
    "print(categorias3)\n",
    "\n",
    "trainSet3.close()"
   ]
  },
  {
   "cell_type": "code",
   "execution_count": 60,
   "metadata": {},
   "outputs": [
    {
     "name": "stdout",
     "output_type": "stream",
     "text": [
      "['DESC', 'ENTY', 'ABBR', 'HUM', 'NUM', 'LOC']\n"
     ]
    }
   ],
   "source": [
    "trainSet4 = open(\"C:/Users/Paulo/Desktop/BCC/3º Período/IA/PROJETO VA2/Training set 4.txt\", 'r')\n",
    "\n",
    "categorias4 = []\n",
    "\n",
    "for line in trainSet4:\n",
    "    if(line.strip().split(':')[0] not in categorias4):\n",
    "        categorias4.append(line.strip().split(':')[0])\n",
    "\n",
    "print(categorias4)\n",
    "\n",
    "trainSet4.close()"
   ]
  },
  {
   "cell_type": "code",
   "execution_count": 61,
   "metadata": {},
   "outputs": [
    {
     "name": "stdout",
     "output_type": "stream",
     "text": [
      "['DESC', 'ENTY', 'ABBR', 'HUM', 'NUM', 'LOC']\n"
     ]
    }
   ],
   "source": [
    "trainSet5 = open(\"C:/Users/Paulo/Desktop/BCC/3º Período/IA/PROJETO VA2/Training set 5.txt\", 'r')\n",
    "\n",
    "categorias5 = []\n",
    "\n",
    "for line in trainSet5:\n",
    "    if(line.strip().split(':')[0] not in categorias5):\n",
    "        categorias5.append(line.strip().split(':')[0])\n",
    "\n",
    "print(categorias5)\n",
    "\n",
    "trainSet5.close()"
   ]
  },
  {
   "cell_type": "code",
   "execution_count": null,
   "metadata": {},
   "outputs": [],
   "source": [
    "from nltk.tokenize.regexp import RegexpTokenizer\n",
    "\n",
    "def preprocessamento(pergunta):\n",
    "    tokenizer = RegexpTokenizer(r'\\w+')\n",
    "    tokens = tokenizer.tokenize(pergunta)\n",
    "    \n",
    "    return ' '.join(tokens)\n",
    "\n",
    "conjuntoTreinamento1 = []\n",
    "for pergunta in trainSet1:\n",
    "    conjuntoTreinamento1.append()"
   ]
  }
 ],
 "metadata": {
  "kernelspec": {
   "display_name": "Python 3",
   "language": "python",
   "name": "python3"
  },
  "language_info": {
   "codemirror_mode": {
    "name": "ipython",
    "version": 3
   },
   "file_extension": ".py",
   "mimetype": "text/x-python",
   "name": "python",
   "nbconvert_exporter": "python",
   "pygments_lexer": "ipython3",
   "version": "3.6.5"
  }
 },
 "nbformat": 4,
 "nbformat_minor": 2
}
