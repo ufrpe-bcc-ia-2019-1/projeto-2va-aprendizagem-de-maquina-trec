{
 "cells": [
  {
   "cell_type": "code",
   "execution_count": 1,
   "metadata": {
    "scrolled": true
   },
   "outputs": [
    {
     "name": "stdout",
     "output_type": "stream",
     "text": [
      "['DESC', 'ENTY', 'ABBR', 'HUM', 'NUM', 'LOC']\n",
      "['manner', 'cremat', 'animal', 'exp', 'ind', 'gr', 'title', 'def', 'date', 'reason', 'event', 'state', 'desc', 'count', 'other', 'letter', 'religion', 'food', 'country', 'color', 'termeq', 'city', 'body', 'dismed', 'mount', 'money', 'product', 'period', 'substance', 'sport', 'plant', 'techmeth', 'volsize', 'instru', 'abb', 'speed', 'word', 'lang', 'perc', 'code', 'dist', 'temp', 'symbol', 'ord', 'veh']\n"
     ]
    }
   ],
   "source": [
    "import numpy as np\n",
    "import pandas as pd\n",
    "import string\n",
    "from nltk.tokenize.regexp import RegexpTokenizer\n",
    "import nltk\n",
    "from nltk.tokenize import word_tokenize\n",
    "from sklearn.feature_extraction.text import TfidfVectorizer\n",
    "from sklearn.naive_bayes import MultinomialNB\n",
    "from sklearn.feature_extraction.text import CountVectorizer\n",
    "\n",
    "trainSet1 = open(\"C:/Users/Paulo/Desktop/BCC/3º Período/IA/PROJETO VA2/Training set 1.txt\", 'r')\n",
    "\n",
    "categorias1 = []\n",
    "subcategorias = []\n",
    "subcategorias1 = []\n",
    "\n",
    "for line in trainSet1:\n",
    "    if(line.strip().split(':')[0] not in categorias1):\n",
    "        categorias1.append(line.strip().split(':')[0])\n",
    "    if(line.strip().split(':')[1] not in subcategorias):\n",
    "        subcategorias.append(line.strip().split(':')[1])\n",
    "        \n",
    "for element in subcategorias:\n",
    "    if(element.strip().split(' ')[0] not in subcategorias1):\n",
    "        subcategorias1.append(element.strip().split(' ')[0])\n",
    "\n",
    "print(categorias1)\n",
    "print(subcategorias1)\n",
    "\n",
    "trainSet1.close()"
   ]
  },
  {
   "cell_type": "code",
   "execution_count": 58,
   "metadata": {},
   "outputs": [
    {
     "name": "stdout",
     "output_type": "stream",
     "text": [
      "['DESC', 'ENTY', 'ABBR', 'HUM', 'NUM', 'LOC']\n"
     ]
    }
   ],
   "source": [
    "trainSet2 = open(\"C:/Users/Paulo/Desktop/BCC/3º Período/IA/PROJETO VA2/Training set 2.txt\", 'r')\n",
    "\n",
    "categorias2 = []\n",
    "\n",
    "for line in trainSet2:\n",
    "    if(line.strip().split(':')[0] not in categorias2):\n",
    "        categorias2.append(line.strip().split(':')[0])\n",
    "\n",
    "print(categorias2)\n",
    "\n",
    "trainSet2.close()"
   ]
  },
  {
   "cell_type": "code",
   "execution_count": 59,
   "metadata": {},
   "outputs": [
    {
     "name": "stdout",
     "output_type": "stream",
     "text": [
      "['DESC', 'ENTY', 'ABBR', 'HUM', 'NUM', 'LOC']\n"
     ]
    }
   ],
   "source": [
    "trainSet3 = open(\"C:/Users/Paulo/Desktop/BCC/3º Período/IA/PROJETO VA2/Training set 3.txt\", 'r')\n",
    "\n",
    "categorias3 = []\n",
    "\n",
    "for line in trainSet3:\n",
    "    if(line.strip().split(':')[0] not in categorias3):\n",
    "        categorias3.append(line.strip().split(':')[0])\n",
    "\n",
    "print(categorias3)\n",
    "\n",
    "trainSet3.close()"
   ]
  },
  {
   "cell_type": "code",
   "execution_count": 60,
   "metadata": {},
   "outputs": [
    {
     "name": "stdout",
     "output_type": "stream",
     "text": [
      "['DESC', 'ENTY', 'ABBR', 'HUM', 'NUM', 'LOC']\n"
     ]
    }
   ],
   "source": [
    "trainSet4 = open(\"C:/Users/Paulo/Desktop/BCC/3º Período/IA/PROJETO VA2/Training set 4.txt\", 'r')\n",
    "\n",
    "categorias4 = []\n",
    "\n",
    "for line in trainSet4:\n",
    "    if(line.strip().split(':')[0] not in categorias4):\n",
    "        categorias4.append(line.strip().split(':')[0])\n",
    "\n",
    "print(categorias4)\n",
    "\n",
    "trainSet4.close()"
   ]
  },
  {
   "cell_type": "code",
   "execution_count": 61,
   "metadata": {},
   "outputs": [
    {
     "name": "stdout",
     "output_type": "stream",
     "text": [
      "['DESC', 'ENTY', 'ABBR', 'HUM', 'NUM', 'LOC']\n"
     ]
    }
   ],
   "source": [
    "trainSet5 = open(\"C:/Users/Paulo/Desktop/BCC/3º Período/IA/PROJETO VA2/Training set 5.txt\", 'r')\n",
    "\n",
    "categorias5 = []\n",
    "\n",
    "for line in trainSet5:\n",
    "    if(line.strip().split(':')[0] not in categorias5):\n",
    "        categorias5.append(line.strip().split(':')[0])\n",
    "\n",
    "print(categorias5)\n",
    "\n",
    "trainSet5.close()"
   ]
  },
  {
   "cell_type": "code",
   "execution_count": 2,
   "metadata": {},
   "outputs": [
    {
     "name": "stdout",
     "output_type": "stream",
     "text": [
      "How did serfdom develop in and then leave Russia\n"
     ]
    }
   ],
   "source": [
    "trainSet1 = open(\"C:/Users/Paulo/Desktop/BCC/3º Período/IA/PROJETO VA2/Training set 1.txt\", 'r')\n",
    "\n",
    "def preprocessamento(pergunta):\n",
    "    tokenizer = RegexpTokenizer(r'\\w+')\n",
    "    tokens = tokenizer.tokenize(pergunta)\n",
    "    \n",
    "    tokens = [word for word in tokens if word not in categorias1 and word not in subcategorias1]\n",
    "    \n",
    "    return ' '.join(tokens)\n",
    "\n",
    "conjuntoTreinamento1 = []\n",
    "for pergunta in trainSet1:\n",
    "    conjuntoTreinamento1.append(preprocessamento(pergunta))\n",
    "\n",
    "\n",
    "print(conjuntoTreinamento1[0])"
   ]
  },
  {
   "cell_type": "markdown",
   "metadata": {},
   "source": [
    "## BOW"
   ]
  },
  {
   "cell_type": "code",
   "execution_count": 10,
   "metadata": {
    "collapsed": true
   },
   "outputs": [
    {
     "name": "stdout",
     "output_type": "stream",
     "text": [
      "CountVectorizer(analyzer='word', binary=False, decode_error='strict',\n",
      "        dtype=<class 'numpy.int64'>, encoding='utf-8', input='content',\n",
      "        lowercase=True, max_df=1.0, max_features=None, min_df=1,\n",
      "        ngram_range=(1, 1), preprocessor=None, stop_words=None,\n",
      "        strip_accents=None, token_pattern='(?u)\\\\b\\\\w\\\\w+\\\\b',\n",
      "        tokenizer=None, vocabulary=None)\n",
      "\n",
      "\n",
      "(1000, 2720)\n",
      "  (0, 156)\t1\n",
      "  (0, 758)\t1\n",
      "  (0, 769)\t1\n",
      "  (0, 1252)\t1\n",
      "  (0, 1277)\t1\n",
      "  (0, 1451)\t1\n",
      "  (0, 2147)\t1\n",
      "  (0, 2200)\t1\n",
      "  (0, 2454)\t1\n",
      "  (1, 503)\t1\n",
      "  (1, 825)\t1\n",
      "  (1, 976)\t1\n",
      "  (1, 996)\t1\n",
      "  (1, 1938)\t1\n",
      "  (1, 2449)\t1\n",
      "  (1, 2628)\t1\n",
      "  (2, 447)\t1\n",
      "  (2, 483)\t1\n",
      "  (2, 998)\t1\n",
      "  (2, 1252)\t1\n",
      "  (2, 1476)\t1\n",
      "  (2, 1692)\t1\n",
      "  (2, 1778)\t1\n",
      "  (2, 2045)\t1\n",
      "  (3, 114)\t1\n",
      "  :\t:\n",
      "  (997, 931)\t1\n",
      "  (997, 1050)\t1\n",
      "  (997, 1330)\t1\n",
      "  (997, 1778)\t2\n",
      "  (997, 2449)\t1\n",
      "  (997, 2551)\t1\n",
      "  (997, 2628)\t1\n",
      "  (998, 507)\t1\n",
      "  (998, 1876)\t1\n",
      "  (998, 2449)\t1\n",
      "  (998, 2599)\t1\n",
      "  (998, 2638)\t1\n",
      "  (998, 2671)\t1\n",
      "  (999, 697)\t1\n",
      "  (999, 1480)\t1\n",
      "  (999, 1728)\t1\n",
      "  (999, 1793)\t1\n",
      "  (999, 1942)\t1\n",
      "  (999, 2126)\t1\n",
      "  (999, 2127)\t1\n",
      "  (999, 2161)\t1\n",
      "  (999, 2241)\t1\n",
      "  (999, 2428)\t1\n",
      "  (999, 2449)\t1\n",
      "  (999, 2638)\t1\n",
      "[[0 0 0 ... 0 0 0]\n",
      " [0 0 0 ... 0 0 0]\n",
      " [0 0 0 ... 0 0 0]\n",
      " ...\n",
      " [0 0 0 ... 0 0 0]\n",
      " [0 0 0 ... 0 0 0]\n",
      " [0 0 0 ... 0 0 0]]\n"
     ]
    }
   ],
   "source": [
    "vectorizer = CountVectorizer() #instanciando um objeto da classe CountVectorizer\n",
    "bow_model = vectorizer.fit(conjuntoTreinamento1)\n",
    "\n",
    "print(bow_model)\n",
    "print(\"\\n\")\n",
    "X_bow_train = bow_model.transform(conjuntoTreinamento1)\n",
    "\n",
    "print(X_bow_train.shape)\n",
    "print(X_bow_train)"
   ]
  },
  {
   "cell_type": "markdown",
   "metadata": {},
   "source": [
    "## Tf"
   ]
  },
  {
   "cell_type": "code",
   "execution_count": 12,
   "metadata": {
    "collapsed": true
   },
   "outputs": [
    {
     "name": "stdout",
     "output_type": "stream",
     "text": [
      "  (0, 156)\t0.3333333333333333\n",
      "  (0, 758)\t0.3333333333333333\n",
      "  (0, 769)\t0.3333333333333333\n",
      "  (0, 1252)\t0.3333333333333333\n",
      "  (0, 1277)\t0.3333333333333333\n",
      "  (0, 1451)\t0.3333333333333333\n",
      "  (0, 2147)\t0.3333333333333333\n",
      "  (0, 2200)\t0.3333333333333333\n",
      "  (0, 2454)\t0.3333333333333333\n",
      "  (1, 503)\t0.3779644730092272\n",
      "  (1, 825)\t0.3779644730092272\n",
      "  (1, 976)\t0.3779644730092272\n",
      "  (1, 996)\t0.3779644730092272\n",
      "  (1, 1938)\t0.3779644730092272\n",
      "  (1, 2449)\t0.3779644730092272\n",
      "  (1, 2628)\t0.3779644730092272\n",
      "  (2, 447)\t0.35355339059327373\n",
      "  (2, 483)\t0.35355339059327373\n",
      "  (2, 998)\t0.35355339059327373\n",
      "  (2, 1252)\t0.35355339059327373\n",
      "  (2, 1476)\t0.35355339059327373\n",
      "  (2, 1692)\t0.35355339059327373\n",
      "  (2, 1778)\t0.35355339059327373\n",
      "  (2, 2045)\t0.35355339059327373\n",
      "  (3, 114)\t0.23570226039551587\n",
      "  :\t:\n",
      "  (997, 931)\t0.24253562503633297\n",
      "  (997, 1050)\t0.24253562503633297\n",
      "  (997, 1330)\t0.24253562503633297\n",
      "  (997, 1778)\t0.48507125007266594\n",
      "  (997, 2449)\t0.24253562503633297\n",
      "  (997, 2551)\t0.24253562503633297\n",
      "  (997, 2628)\t0.24253562503633297\n",
      "  (998, 507)\t0.4082482904638631\n",
      "  (998, 1876)\t0.4082482904638631\n",
      "  (998, 2449)\t0.4082482904638631\n",
      "  (998, 2599)\t0.4082482904638631\n",
      "  (998, 2638)\t0.4082482904638631\n",
      "  (998, 2671)\t0.4082482904638631\n",
      "  (999, 697)\t0.2886751345948129\n",
      "  (999, 1480)\t0.2886751345948129\n",
      "  (999, 1728)\t0.2886751345948129\n",
      "  (999, 1793)\t0.2886751345948129\n",
      "  (999, 1942)\t0.2886751345948129\n",
      "  (999, 2126)\t0.2886751345948129\n",
      "  (999, 2127)\t0.2886751345948129\n",
      "  (999, 2161)\t0.2886751345948129\n",
      "  (999, 2241)\t0.2886751345948129\n",
      "  (999, 2428)\t0.2886751345948129\n",
      "  (999, 2449)\t0.2886751345948129\n",
      "  (999, 2638)\t0.2886751345948129\n"
     ]
    }
   ],
   "source": [
    "from sklearn.feature_extraction.text import TfidfVectorizer\n",
    "\n",
    "vectorizer = TfidfVectorizer(use_idf = False)\n",
    "tf_model = vectorizer.fit(conjuntoTreinamento1)\n",
    "\n",
    "Matrix_tf_train = tf_model.transform(conjuntoTreinamento1)\n",
    "\n",
    "print(Matrix_tf_train)"
   ]
  },
  {
   "cell_type": "code",
   "execution_count": null,
   "metadata": {},
   "outputs": [],
   "source": []
  }
 ],
 "metadata": {
  "kernelspec": {
   "display_name": "Python 3",
   "language": "python",
   "name": "python3"
  },
  "language_info": {
   "codemirror_mode": {
    "name": "ipython",
    "version": 3
   },
   "file_extension": ".py",
   "mimetype": "text/x-python",
   "name": "python",
   "nbconvert_exporter": "python",
   "pygments_lexer": "ipython3",
   "version": "3.6.5"
  }
 },
 "nbformat": 4,
 "nbformat_minor": 2
}
