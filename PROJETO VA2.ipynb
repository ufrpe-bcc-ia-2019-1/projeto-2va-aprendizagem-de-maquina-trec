{
 "cells": [
  {
   "cell_type": "code",
   "execution_count": 11,
   "metadata": {},
   "outputs": [],
   "source": [
    "from nltk.tokenize.regexp import RegexpTokenizer\n",
    "\n",
    "trainSet1 = open(\"C:/Users/Paulo/Desktop/BCC/3º Período/IA/PROJETO VA2/Training set 1.txt\", 'r', encoding = \"ISO-8859-1\")\n",
    "\n",
    "categorias1 = []\n",
    "subcategorias = []\n",
    "subcategorias1 = []\n",
    "\n",
    "for line in trainSet1:\n",
    "    categorias1.append(line.strip().split(':')[0])\n",
    "    if(line.strip().split(':')[1] not in subcategorias):\n",
    "        subcategorias.append(line.strip().split(':')[1])\n",
    "        \n",
    "for element in subcategorias:\n",
    "    if(element.strip().split(' ')[0] not in subcategorias1):\n",
    "        subcategorias1.append(element.strip().split(' ')[0])\n",
    "\n",
    "#print(categorias1)\n",
    "\n",
    "trainSet1 = open(\"C:/Users/Paulo/Desktop/BCC/3º Período/IA/PROJETO VA2/Training set 1.txt\", 'r', encoding = \"ISO-8859-1\")\n",
    "\n",
    "def preprocessamento(pergunta):\n",
    "    tokenizer = RegexpTokenizer(r'\\w+')\n",
    "    tokens = tokenizer.tokenize(pergunta)\n",
    "    \n",
    "    tokens = [word for word in tokens if word not in categorias1 and word not in subcategorias1]\n",
    "    \n",
    "    return ' '.join(tokens)\n",
    "\n",
    "conjuntoTreinamento1 = []\n",
    "\n",
    "for pergunta in trainSet1:\n",
    "    conjuntoTreinamento1.append(preprocessamento(pergunta))\n",
    "    \n",
    "trainSet1.close()\n",
    "trainSet1.close()"
   ]
  },
  {
   "cell_type": "code",
   "execution_count": 12,
   "metadata": {},
   "outputs": [],
   "source": [
    "from nltk.tokenize.regexp import RegexpTokenizer\n",
    "\n",
    "trainTest = open(\"C:/Users/Paulo/Desktop/BCC/3º Período/IA/PROJETO VA2/Test set.txt\", 'r', encoding = \"ISO-8859-1\")\n",
    "\n",
    "categorias1Test = []\n",
    "subcategoriasTest = []\n",
    "subcategorias1Test = []\n",
    "\n",
    "for line in trainTest:\n",
    "    categorias1Test.append(line.strip().split(':')[0])\n",
    "    if(line.strip().split(':')[1] not in subcategoriasTest):\n",
    "        subcategoriasTest.append(line.strip().split(':')[1])\n",
    "        \n",
    "for element in subcategoriasTest:\n",
    "    if(element.strip().split(' ')[0] not in subcategorias1Test):\n",
    "        subcategorias1Test.append(element.strip().split(' ')[0])\n",
    "\n",
    "#print(categorias1Test)\n",
    "\n",
    "trainTest = open(\"C:/Users/Paulo/Desktop/BCC/3º Período/IA/PROJETO VA2/Test set.txt\", 'r', encoding = \"ISO-8859-1\")\n",
    "\n",
    "def preprocessamento1(pergunta):\n",
    "    tokenizer = RegexpTokenizer(r'\\w+')\n",
    "    tokens = tokenizer.tokenize(pergunta)\n",
    "    \n",
    "    tokens = [word for word in tokens if word not in categorias1Test and word not in subcategorias1Test]\n",
    "    \n",
    "    return ' '.join(tokens)\n",
    "\n",
    "conjuntoTreinamento1Test = []\n",
    "\n",
    "for pergunta in trainTest:\n",
    "    conjuntoTreinamento1Test.append(preprocessamento1(pergunta))\n",
    "    \n",
    "trainTest.close()\n",
    "trainTest.close()"
   ]
  },
  {
   "cell_type": "markdown",
   "metadata": {},
   "source": [
    "## BOW"
   ]
  },
  {
   "cell_type": "code",
   "execution_count": 4,
   "metadata": {},
   "outputs": [
    {
     "name": "stdout",
     "output_type": "stream",
     "text": [
      "[[0 0 0 0 0 0 0 0 0 0 0 0 0 0 0 0 0 0 0 0 0 0 0 0 0 0 0 0 0 0 0 0 0 0 0 0\n",
      "  0 0 0 0 0 0 0 0 0 0 0 0 0 0 0 0 0 0 0 0 0 0 0 0 0 0 0 0 0 0 0 0 0 0 0 0\n",
      "  0 0 0 0 0 0 0 0 0 0 0 0 0 0 0 0 0 0 0 0 0 0 0 0 0 0 0 0 0 0 0 0 0 0 0 0\n",
      "  0 0 0 0 0 0 0 0 0 0 0 0 0 0 0 0 0 0 0 0 0 0 0 0 0 0 0 0 0 0 0 0 0 0 0 0\n",
      "  0 0 0 0 0 0 0 0 0 0 0 1 0 0 0 0 0 0 0 0 0 0 0 0 0 0 0 0 0 0 0 0 0 0 0 0\n",
      "  0 0 0 0 0 0 0 0 0 0 0 0 0 0 0 0 0 0 0]]\n",
      "(1000, 2720) (500, 2720)\n"
     ]
    }
   ],
   "source": [
    "from sklearn.feature_extraction.text import CountVectorizer\n",
    "vectorizer = CountVectorizer()\n",
    "bow_model  = vectorizer.fit(conjuntoTreinamento1)\n",
    "\n",
    "X_bow_train = bow_model.transform(conjuntoTreinamento1)\n",
    "X_bow_test  = bow_model.transform(conjuntoTreinamento1Test)\n",
    "\n",
    "print(X_bow_train.todense()[0,1:200])\n",
    "\n",
    "print(X_bow_train.shape,X_bow_test.shape)"
   ]
  },
  {
   "cell_type": "code",
   "execution_count": 5,
   "metadata": {},
   "outputs": [],
   "source": [
    "#Naive Bayes\n",
    "\n",
    "from sklearn.naive_bayes import MultinomialNB\n",
    "\n",
    "clf = MultinomialNB()"
   ]
  },
  {
   "cell_type": "code",
   "execution_count": 25,
   "metadata": {},
   "outputs": [
    {
     "name": "stdout",
     "output_type": "stream",
     "text": [
      "Acurácia:  0.58\n",
      "n:  3\n"
     ]
    }
   ],
   "source": [
    "#KNN\n",
    "\n",
    "from sklearn.neighbors import KNeighborsClassifier\n",
    "\n",
    "acc = -1\n",
    "\n",
    "for i in range(2, 1000):\n",
    "    neigh = KNeighborsClassifier(n_neighbors = i)\n",
    "    neigh.fit(X_bow_train, categorias1)\n",
    "\n",
    "    current_acc = neigh.score(X_bow_test , categorias1Test)\n",
    "    \n",
    "    if(current_acc > acc):\n",
    "        acc = current_acc\n",
    "        n = i\n",
    "\n",
    "print(\"Acurácia: \", acc)\n",
    "print(\"n: \", n)"
   ]
  },
  {
   "cell_type": "code",
   "execution_count": 6,
   "metadata": {},
   "outputs": [
    {
     "name": "stdout",
     "output_type": "stream",
     "text": [
      "Acurácia:  0.518\n"
     ]
    }
   ],
   "source": [
    "clf.fit(X_bow_train, categorias1)\n",
    "\n",
    "acc = clf.score(X_bow_test , categorias1Test)\n",
    "print('Acurácia: ', acc)"
   ]
  },
  {
   "cell_type": "markdown",
   "metadata": {},
   "source": [
    "## Tf"
   ]
  },
  {
   "cell_type": "code",
   "execution_count": 7,
   "metadata": {
    "scrolled": true
   },
   "outputs": [
    {
     "name": "stdout",
     "output_type": "stream",
     "text": [
      "  (0, 156)\t0.3333333333333333\n",
      "  (0, 758)\t0.3333333333333333\n",
      "  (0, 769)\t0.3333333333333333\n",
      "  (0, 1252)\t0.3333333333333333\n",
      "  (0, 1277)\t0.3333333333333333\n",
      "  (0, 1451)\t0.3333333333333333\n",
      "  (0, 2147)\t0.3333333333333333\n",
      "  (0, 2200)\t0.3333333333333333\n",
      "  (0, 2454)\t0.3333333333333333\n"
     ]
    }
   ],
   "source": [
    "from sklearn.feature_extraction.text import TfidfVectorizer\n",
    "\n",
    "vectorizer = TfidfVectorizer(use_idf=False)\n",
    "tf_model = vectorizer.fit(conjuntoTreinamento1)\n",
    "\n",
    "X_tf_train = tf_model.transform(conjuntoTreinamento1)\n",
    "X_tf_test  = tf_model.transform(conjuntoTreinamento1Test)\n",
    "\n",
    "print(X_tf_train[0,:])"
   ]
  },
  {
   "cell_type": "code",
   "execution_count": 8,
   "metadata": {},
   "outputs": [
    {
     "name": "stdout",
     "output_type": "stream",
     "text": [
      "Acurácia:  0.472\n"
     ]
    }
   ],
   "source": [
    "clf.fit(X_tf_train, categorias1)\n",
    "\n",
    "acc = clf.score(X_tf_test , categorias1Test)\n",
    "print('Acurácia: ', acc)"
   ]
  },
  {
   "cell_type": "markdown",
   "metadata": {},
   "source": [
    "## Tfidf"
   ]
  },
  {
   "cell_type": "code",
   "execution_count": 9,
   "metadata": {},
   "outputs": [
    {
     "name": "stdout",
     "output_type": "stream",
     "text": [
      "  (0, 2454)\t0.3987893700645933\n",
      "  (0, 2200)\t0.422532658148168\n",
      "  (0, 2147)\t0.3987893700645933\n",
      "  (0, 1451)\t0.422532658148168\n",
      "  (0, 1277)\t0.14890042947248563\n",
      "  (0, 1252)\t0.17763952349600942\n",
      "  (0, 769)\t0.21518061812895703\n",
      "  (0, 758)\t0.422532658148168\n",
      "  (0, 156)\t0.21518061812895703\n"
     ]
    }
   ],
   "source": [
    "from sklearn.feature_extraction.text import TfidfVectorizer\n",
    "\n",
    "vectorizer = TfidfVectorizer(use_idf=True)\n",
    "tfidf_model = vectorizer.fit(conjuntoTreinamento1)\n",
    "\n",
    "X_tfidf_train = tfidf_model.transform(conjuntoTreinamento1)\n",
    "X_tfidf_test  = tfidf_model.transform(conjuntoTreinamento1Test)\n",
    "\n",
    "print(X_tfidf_train[0,:])"
   ]
  },
  {
   "cell_type": "code",
   "execution_count": 10,
   "metadata": {},
   "outputs": [
    {
     "name": "stdout",
     "output_type": "stream",
     "text": [
      "Acurácia:  0.656\n"
     ]
    }
   ],
   "source": [
    "clf.fit(X_tfidf_train, categorias1)\n",
    "\n",
    "acc = clf.score(X_tfidf_test , categorias1Test)\n",
    "print('Acurácia: ', acc)"
   ]
  },
  {
   "cell_type": "code",
   "execution_count": 11,
   "metadata": {
    "collapsed": true
   },
   "outputs": [
    {
     "name": "stdout",
     "output_type": "stream",
     "text": [
      "\n",
      "after preprocessing:\n",
      "['How far is it from Denver to Aspen']\n",
      "\n",
      "predictions:\n"
     ]
    },
    {
     "ename": "NameError",
     "evalue": "name 'doc' is not defined",
     "output_type": "error",
     "traceback": [
      "\u001b[1;31m---------------------------------------------------------------------------\u001b[0m",
      "\u001b[1;31mNameError\u001b[0m                                 Traceback (most recent call last)",
      "\u001b[1;32m<ipython-input-11-83a10dfc1ab9>\u001b[0m in \u001b[0;36m<module>\u001b[1;34m()\u001b[0m\n\u001b[0;32m      9\u001b[0m \u001b[0mprint\u001b[0m\u001b[1;33m(\u001b[0m\u001b[1;34m'\\npredictions:'\u001b[0m\u001b[1;33m)\u001b[0m\u001b[1;33m\u001b[0m\u001b[0m\n\u001b[0;32m     10\u001b[0m \u001b[1;32mfor\u001b[0m \u001b[0mi\u001b[0m\u001b[1;33m,\u001b[0m\u001b[0mpergunta\u001b[0m \u001b[1;32min\u001b[0m \u001b[0menumerate\u001b[0m\u001b[1;33m(\u001b[0m\u001b[0mdocs\u001b[0m\u001b[1;33m)\u001b[0m\u001b[1;33m:\u001b[0m\u001b[1;33m\u001b[0m\u001b[0m\n\u001b[1;32m---> 11\u001b[1;33m     \u001b[0mprint\u001b[0m\u001b[1;33m(\u001b[0m\u001b[1;34m'{} -> {}'\u001b[0m\u001b[1;33m.\u001b[0m\u001b[0mformat\u001b[0m\u001b[1;33m(\u001b[0m\u001b[0mdoc\u001b[0m\u001b[1;33m,\u001b[0m \u001b[0mcategorias1\u001b[0m\u001b[1;33m[\u001b[0m\u001b[0mdocs_preds\u001b[0m\u001b[1;33m[\u001b[0m\u001b[0mi\u001b[0m\u001b[1;33m]\u001b[0m\u001b[1;33m]\u001b[0m\u001b[1;33m)\u001b[0m\u001b[1;33m)\u001b[0m\u001b[1;33m\u001b[0m\u001b[0m\n\u001b[0m",
      "\u001b[1;31mNameError\u001b[0m: name 'doc' is not defined"
     ]
    }
   ],
   "source": [
    "docs = ['dist How far is it from Denver to Aspen ?']\n",
    "preprocessed_docs = [preprocessamento1(pergunta) for pergunta in docs]\n",
    "\n",
    "print('\\nafter preprocessing:')\n",
    "print(preprocessed_docs)\n",
    "\n",
    "docs_preds = clf.predict(tfidf_model.transform(preprocessed_docs))\n",
    "\n",
    "print('\\npredictions:')\n",
    "for i,pergunta in enumerate(docs):\n",
    "    print('{} -> {}'.format(doc, categorias1[docs_preds[i]]))"
   ]
  }
 ],
 "metadata": {
  "kernelspec": {
   "display_name": "Python 3",
   "language": "python",
   "name": "python3"
  },
  "language_info": {
   "codemirror_mode": {
    "name": "ipython",
    "version": 3
   },
   "file_extension": ".py",
   "mimetype": "text/x-python",
   "name": "python",
   "nbconvert_exporter": "python",
   "pygments_lexer": "ipython3",
   "version": "3.6.5"
  }
 },
 "nbformat": 4,
 "nbformat_minor": 2
}
