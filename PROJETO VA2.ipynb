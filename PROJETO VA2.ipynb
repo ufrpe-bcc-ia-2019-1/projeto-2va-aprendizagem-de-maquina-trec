{
 "cells": [
  {
   "cell_type": "code",
   "execution_count": 1,
   "metadata": {},
   "outputs": [],
   "source": [
    "from nltk.tokenize.regexp import RegexpTokenizer\n",
    "\n",
    "trainSet = open(\"C:/Users/Paulo/Desktop/BCC/3º Período/IA/PROJETO VA2/Training set 1.txt\", 'r', encoding = \"ISO-8859-1\")\n",
    "\n",
    "categorias = []\n",
    "perguntas = []\n",
    "perguntas_finais = []\n",
    "\n",
    "for line in trainSet:\n",
    "    categorias.append(line.strip().split(':')[0])\n",
    "    perguntas.append(line.strip().split(':')[1])\n",
    "    \n",
    "for element in perguntas:\n",
    "    perguntas_finais.append(element.strip().split(\" \", 1)[1])\n",
    "\n",
    "#print(perguntas[0])\n",
    "#print(perguntas_finais)\n",
    "\n",
    "trainSet = open(\"C:/Users/Paulo/Desktop/BCC/3º Período/IA/PROJETO VA2/Training set 1.txt\", 'r', encoding = \"ISO-8859-1\")\n",
    "\n",
    "def preprocessamento(pergunta):\n",
    "    tokenizer = RegexpTokenizer(r'\\w+')\n",
    "    tokens = tokenizer.tokenize(pergunta)\n",
    "    \n",
    "    tokens = [word for word in tokens]\n",
    "    \n",
    "    return ' '.join(tokens)\n",
    "\n",
    "trainSetTokenized = []\n",
    "\n",
    "for pergunta in perguntas_finais:\n",
    "    trainSetTokenized.append(preprocessamento(pergunta))\n",
    "    \n",
    "#print(trainSetTokenized[0])\n",
    "    \n",
    "trainSet.close()\n",
    "trainSet.close()"
   ]
  },
  {
   "cell_type": "code",
   "execution_count": 2,
   "metadata": {},
   "outputs": [],
   "source": [
    "from nltk.tokenize.regexp import RegexpTokenizer\n",
    "\n",
    "testSet = open(\"C:/Users/Paulo/Desktop/BCC/3º Período/IA/PROJETO VA2/Test set.txt\", 'r', encoding = \"ISO-8859-1\")\n",
    "\n",
    "categoriasTest = []\n",
    "perguntasTest = []\n",
    "perguntas_finaisTest = []\n",
    "\n",
    "for line in testSet:\n",
    "    categoriasTest.append(line.strip().split(':')[0])\n",
    "    perguntasTest.append(line.strip().split(':')[1])\n",
    "    \n",
    "for element in perguntasTest:\n",
    "    perguntas_finaisTest.append(element.strip().split(\" \", 1)[1])\n",
    "\n",
    "#print(perguntas_finaisTest)\n",
    "\n",
    "testSet = open(\"C:/Users/Paulo/Desktop/BCC/3º Período/IA/PROJETO VA2/Test set.txt\", 'r', encoding = \"ISO-8859-1\")\n",
    "\n",
    "def preprocessamentoTest(pergunta):\n",
    "    tokenizer = RegexpTokenizer(r'\\w+')\n",
    "    tokens = tokenizer.tokenize(pergunta)\n",
    "    \n",
    "    tokens = [word for word in tokens]\n",
    "    \n",
    "    return ' '.join(tokens)\n",
    "\n",
    "testSetTokenized = []\n",
    "\n",
    "for pergunta in perguntas_finaisTest:\n",
    "    testSetTokenized.append(preprocessamentoTest(pergunta))\n",
    "    \n",
    "testSet.close()\n",
    "testSet.close()"
   ]
  },
  {
   "cell_type": "markdown",
   "metadata": {},
   "source": [
    "## BOW"
   ]
  },
  {
   "cell_type": "code",
   "execution_count": 3,
   "metadata": {},
   "outputs": [
    {
     "name": "stdout",
     "output_type": "stream",
     "text": [
      "(1000, 2699) (500, 2699)\n"
     ]
    }
   ],
   "source": [
    "from sklearn.feature_extraction.text import CountVectorizer\n",
    "\n",
    "vectorizer = CountVectorizer()\n",
    "bow_model  = vectorizer.fit(trainSetTokenized)\n",
    "\n",
    "X_bow_train = bow_model.transform(trainSetTokenized)\n",
    "X_bow_test  = bow_model.transform(testSetTokenized)\n",
    "\n",
    "print(X_bow_train.shape, X_bow_test.shape)"
   ]
  },
  {
   "cell_type": "markdown",
   "metadata": {},
   "source": [
    "## Tf"
   ]
  },
  {
   "cell_type": "code",
   "execution_count": 4,
   "metadata": {},
   "outputs": [
    {
     "name": "stdout",
     "output_type": "stream",
     "text": [
      "(1000, 2699) (500, 2699)\n"
     ]
    }
   ],
   "source": [
    "from sklearn.feature_extraction.text import TfidfVectorizer\n",
    "\n",
    "vectorizer = TfidfVectorizer(use_idf=False)\n",
    "tf_model = vectorizer.fit(trainSetTokenized)\n",
    "\n",
    "X_tf_train = tf_model.transform(trainSetTokenized)\n",
    "X_tf_test  = tf_model.transform(testSetTokenized)\n",
    "\n",
    "print(X_tf_train.shape, X_tf_test.shape)"
   ]
  },
  {
   "cell_type": "markdown",
   "metadata": {},
   "source": [
    "## Tfidf"
   ]
  },
  {
   "cell_type": "code",
   "execution_count": 5,
   "metadata": {},
   "outputs": [
    {
     "name": "stdout",
     "output_type": "stream",
     "text": [
      "(1000, 2699) (500, 2699)\n"
     ]
    }
   ],
   "source": [
    "from sklearn.feature_extraction.text import TfidfVectorizer\n",
    "\n",
    "vectorizer = TfidfVectorizer(use_idf=True)\n",
    "tfidf_model = vectorizer.fit(trainSetTokenized)\n",
    "\n",
    "X_tfidf_train = tfidf_model.transform(trainSetTokenized)\n",
    "X_tfidf_test  = tfidf_model.transform(testSetTokenized)\n",
    "\n",
    "print(X_tfidf_train.shape, X_tfidf_test.shape)"
   ]
  },
  {
   "cell_type": "markdown",
   "metadata": {},
   "source": [
    "## KNN"
   ]
  },
  {
   "cell_type": "code",
   "execution_count": 15,
   "metadata": {},
   "outputs": [],
   "source": [
    "from sklearn.neighbors import KNeighborsClassifier\n",
    "\n",
    "acc = -1"
   ]
  },
  {
   "cell_type": "code",
   "execution_count": 16,
   "metadata": {},
   "outputs": [
    {
     "name": "stdout",
     "output_type": "stream",
     "text": [
      "Acurácia:  0.59\n",
      "n:  4\n"
     ]
    }
   ],
   "source": [
    "#Com o BOW\n",
    "\n",
    "for i in range(2, len(categorias)):\n",
    "    neigh = KNeighborsClassifier(n_neighbors = i)\n",
    "    neigh.fit(X_bow_train, categorias)\n",
    "\n",
    "    current_acc = neigh.score(X_bow_test, categoriasTest)\n",
    "    \n",
    "    if(current_acc > acc):\n",
    "        acc = current_acc\n",
    "        n = i\n",
    "\n",
    "print(\"Acurácia: \", acc)\n",
    "print(\"n: \", n)"
   ]
  },
  {
   "cell_type": "code",
   "execution_count": 17,
   "metadata": {},
   "outputs": [
    {
     "name": "stdout",
     "output_type": "stream",
     "text": [
      "Acurácia:  0.702\n",
      "n:  4\n"
     ]
    }
   ],
   "source": [
    "#Com o Tf\n",
    "\n",
    "for i in range(2, len(categorias)):\n",
    "    neigh = KNeighborsClassifier(n_neighbors = i)\n",
    "    neigh.fit(X_tf_train, categorias)\n",
    "\n",
    "    current_acc = neigh.score(X_tf_test, categoriasTest)\n",
    "    \n",
    "    if(current_acc > acc):\n",
    "        acc = current_acc\n",
    "        n = i\n",
    "\n",
    "print(\"Acurácia: \", acc)\n",
    "print(\"n: \", n)"
   ]
  },
  {
   "cell_type": "code",
   "execution_count": 9,
   "metadata": {},
   "outputs": [
    {
     "name": "stdout",
     "output_type": "stream",
     "text": [
      "Acurácia:  0.73\n",
      "n:  12\n"
     ]
    }
   ],
   "source": [
    "#Com o Tfidf\n",
    "\n",
    "for i in range(2, len(categorias)):\n",
    "    neigh = KNeighborsClassifier(n_neighbors = i)\n",
    "    neigh.fit(X_tfidf_train, categorias)\n",
    "\n",
    "    current_acc = neigh.score(X_tfidf_test, categoriasTest)\n",
    "    \n",
    "    if(current_acc > acc):\n",
    "        acc = current_acc\n",
    "        n = i\n",
    "\n",
    "print(\"Acurácia: \", acc)\n",
    "print(\"n: \", n)"
   ]
  },
  {
   "cell_type": "markdown",
   "metadata": {},
   "source": [
    "## Naive Bayes"
   ]
  },
  {
   "cell_type": "code",
   "execution_count": 43,
   "metadata": {},
   "outputs": [],
   "source": [
    "from sklearn.naive_bayes import MultinomialNB\n",
    "\n",
    "clf = MultinomialNB()"
   ]
  },
  {
   "cell_type": "code",
   "execution_count": 51,
   "metadata": {},
   "outputs": [
    {
     "name": "stdout",
     "output_type": "stream",
     "text": [
      "Acurácia:  0.542\n"
     ]
    }
   ],
   "source": [
    "#Com o BOW\n",
    "\n",
    "clf.fit(X_bow_train, categorias)\n",
    "\n",
    "acc = clf.score(X_bow_test, categoriasTest)\n",
    "print('Acurácia: ', acc)"
   ]
  },
  {
   "cell_type": "code",
   "execution_count": 50,
   "metadata": {},
   "outputs": [
    {
     "name": "stdout",
     "output_type": "stream",
     "text": [
      "Acurácia:  0.49\n"
     ]
    }
   ],
   "source": [
    "#Com o Tf\n",
    "\n",
    "clf.fit(X_tf_train, categorias)\n",
    "\n",
    "acc = clf.score(X_tf_test, categoriasTest)\n",
    "print('Acurácia: ', acc)"
   ]
  },
  {
   "cell_type": "code",
   "execution_count": 49,
   "metadata": {},
   "outputs": [
    {
     "name": "stdout",
     "output_type": "stream",
     "text": [
      "Acurácia:  0.684\n"
     ]
    }
   ],
   "source": [
    "#Com o Tfidf\n",
    "\n",
    "clf.fit(X_tfidf_train, categorias)\n",
    "\n",
    "acc = clf.score(X_tfidf_test, categoriasTest)\n",
    "print('Acurácia: ', acc)"
   ]
  },
  {
   "cell_type": "markdown",
   "metadata": {},
   "source": [
    "## Perceptron"
   ]
  },
  {
   "cell_type": "code",
   "execution_count": 109,
   "metadata": {},
   "outputs": [],
   "source": [
    "from sklearn.neural_network import MLPClassifier\n",
    "\n",
    "mlp = MLPClassifier(solver='lbfgs', hidden_layer_sizes=(6), random_state = 0)"
   ]
  },
  {
   "cell_type": "code",
   "execution_count": 111,
   "metadata": {},
   "outputs": [
    {
     "name": "stdout",
     "output_type": "stream",
     "text": [
      "Acurácia:  0.748\n"
     ]
    }
   ],
   "source": [
    "#Com BOW\n",
    "\n",
    "mlp.fit(X_bow_train, categorias)\n",
    "\n",
    "acc = mlp.score(X_bow_test, categoriasTest)\n",
    "print('Acurácia: ', acc)"
   ]
  },
  {
   "cell_type": "code",
   "execution_count": 112,
   "metadata": {},
   "outputs": [
    {
     "name": "stdout",
     "output_type": "stream",
     "text": [
      "Acurácia:  0.746\n"
     ]
    }
   ],
   "source": [
    "#Com o Tf\n",
    "\n",
    "mlp.fit(X_tf_train, categorias)\n",
    "\n",
    "acc = mlp.score(X_tf_test, categoriasTest)\n",
    "print('Acurácia: ', acc)"
   ]
  },
  {
   "cell_type": "code",
   "execution_count": 113,
   "metadata": {},
   "outputs": [
    {
     "name": "stdout",
     "output_type": "stream",
     "text": [
      "Acurácia:  0.762\n"
     ]
    }
   ],
   "source": [
    "#Com o Tfidf\n",
    "\n",
    "mlp.fit(X_tfidf_train, categorias)\n",
    "\n",
    "acc = mlp.score(X_tfidf_test, categoriasTest)\n",
    "print('Acurácia: ', acc)"
   ]
  },
  {
   "cell_type": "code",
   "execution_count": 11,
   "metadata": {
    "collapsed": true
   },
   "outputs": [
    {
     "name": "stdout",
     "output_type": "stream",
     "text": [
      "\n",
      "after preprocessing:\n",
      "['How far is it from Denver to Aspen']\n",
      "\n",
      "predictions:\n"
     ]
    },
    {
     "ename": "NameError",
     "evalue": "name 'doc' is not defined",
     "output_type": "error",
     "traceback": [
      "\u001b[1;31m---------------------------------------------------------------------------\u001b[0m",
      "\u001b[1;31mNameError\u001b[0m                                 Traceback (most recent call last)",
      "\u001b[1;32m<ipython-input-11-83a10dfc1ab9>\u001b[0m in \u001b[0;36m<module>\u001b[1;34m()\u001b[0m\n\u001b[0;32m      9\u001b[0m \u001b[0mprint\u001b[0m\u001b[1;33m(\u001b[0m\u001b[1;34m'\\npredictions:'\u001b[0m\u001b[1;33m)\u001b[0m\u001b[1;33m\u001b[0m\u001b[0m\n\u001b[0;32m     10\u001b[0m \u001b[1;32mfor\u001b[0m \u001b[0mi\u001b[0m\u001b[1;33m,\u001b[0m\u001b[0mpergunta\u001b[0m \u001b[1;32min\u001b[0m \u001b[0menumerate\u001b[0m\u001b[1;33m(\u001b[0m\u001b[0mdocs\u001b[0m\u001b[1;33m)\u001b[0m\u001b[1;33m:\u001b[0m\u001b[1;33m\u001b[0m\u001b[0m\n\u001b[1;32m---> 11\u001b[1;33m     \u001b[0mprint\u001b[0m\u001b[1;33m(\u001b[0m\u001b[1;34m'{} -> {}'\u001b[0m\u001b[1;33m.\u001b[0m\u001b[0mformat\u001b[0m\u001b[1;33m(\u001b[0m\u001b[0mdoc\u001b[0m\u001b[1;33m,\u001b[0m \u001b[0mcategorias1\u001b[0m\u001b[1;33m[\u001b[0m\u001b[0mdocs_preds\u001b[0m\u001b[1;33m[\u001b[0m\u001b[0mi\u001b[0m\u001b[1;33m]\u001b[0m\u001b[1;33m]\u001b[0m\u001b[1;33m)\u001b[0m\u001b[1;33m)\u001b[0m\u001b[1;33m\u001b[0m\u001b[0m\n\u001b[0m",
      "\u001b[1;31mNameError\u001b[0m: name 'doc' is not defined"
     ]
    }
   ],
   "source": [
    "docs = ['dist How far is it from Denver to Aspen ?']\n",
    "preprocessed_docs = [preprocessamento1(pergunta) for pergunta in docs]\n",
    "\n",
    "print('\\nafter preprocessing:')\n",
    "print(preprocessed_docs)\n",
    "\n",
    "docs_preds = clf.predict(tfidf_model.transform(preprocessed_docs))\n",
    "\n",
    "print('\\npredictions:')\n",
    "for i,pergunta in enumerate(docs):\n",
    "    print('{} -> {}'.format(doc, categorias1[docs_preds[i]]))"
   ]
  }
 ],
 "metadata": {
  "kernelspec": {
   "display_name": "Python 3",
   "language": "python",
   "name": "python3"
  },
  "language_info": {
   "codemirror_mode": {
    "name": "ipython",
    "version": 3
   },
   "file_extension": ".py",
   "mimetype": "text/x-python",
   "name": "python",
   "nbconvert_exporter": "python",
   "pygments_lexer": "ipython3",
   "version": "3.6.5"
  }
 },
 "nbformat": 4,
 "nbformat_minor": 2
}
