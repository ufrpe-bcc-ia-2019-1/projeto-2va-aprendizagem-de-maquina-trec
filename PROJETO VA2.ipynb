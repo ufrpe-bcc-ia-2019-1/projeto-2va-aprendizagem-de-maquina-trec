{
 "cells": [
  {
   "cell_type": "markdown",
   "metadata": {},
   "source": [
    "# Pré-Processamento"
   ]
  },
  {
   "cell_type": "code",
   "execution_count": 1,
   "metadata": {},
   "outputs": [],
   "source": [
    "from nltk.tokenize.regexp import RegexpTokenizer\n",
    "\n",
    "trainSet = open(\"C:/Users/Paulo/Desktop/BCC/3º Período/IA/PROJETO VA2/Training set 1.txt\", 'r', encoding = \"ISO-8859-1\")\n",
    "\n",
    "categorias = []\n",
    "perguntas = []\n",
    "perguntas_finais = []\n",
    "\n",
    "for line in trainSet:\n",
    "    categorias.append(line.strip().split(':')[0])\n",
    "    perguntas.append(line.strip().split(':')[1])\n",
    "    \n",
    "for element in perguntas:\n",
    "    perguntas_finais.append(element.strip().split(\" \", 1)[1])\n",
    "\n",
    "#print(perguntas[0])\n",
    "#print(perguntas_finais)\n",
    "\n",
    "trainSet = open(\"C:/Users/Paulo/Desktop/BCC/3º Período/IA/PROJETO VA2/Training set 1.txt\", 'r', encoding = \"ISO-8859-1\")\n",
    "\n",
    "def preprocessamento(pergunta):\n",
    "    tokenizer = RegexpTokenizer(r'\\w+')\n",
    "    tokens = tokenizer.tokenize(pergunta)\n",
    "    \n",
    "    tokens = [word for word in tokens]\n",
    "    \n",
    "    return ' '.join(tokens)\n",
    "\n",
    "trainSetTokenized = []\n",
    "\n",
    "for pergunta in perguntas_finais:\n",
    "    trainSetTokenized.append(preprocessamento(pergunta))\n",
    "    \n",
    "#print(trainSetTokenized[0])\n",
    "    \n",
    "trainSet.close()\n",
    "trainSet.close()"
   ]
  },
  {
   "cell_type": "code",
   "execution_count": 2,
   "metadata": {},
   "outputs": [],
   "source": [
    "from nltk.tokenize.regexp import RegexpTokenizer\n",
    "\n",
    "testSet = open(\"C:/Users/Paulo/Desktop/BCC/3º Período/IA/PROJETO VA2/Test set.txt\", 'r', encoding = \"ISO-8859-1\")\n",
    "\n",
    "categoriasTest = []\n",
    "perguntasTest = []\n",
    "perguntas_finaisTest = []\n",
    "\n",
    "for line in testSet:\n",
    "    categoriasTest.append(line.strip().split(':')[0])\n",
    "    perguntasTest.append(line.strip().split(':')[1])\n",
    "    \n",
    "for element in perguntasTest:\n",
    "    perguntas_finaisTest.append(element.strip().split(\" \", 1)[1])\n",
    "\n",
    "#print(perguntas_finaisTest)\n",
    "\n",
    "testSet = open(\"C:/Users/Paulo/Desktop/BCC/3º Período/IA/PROJETO VA2/Test set.txt\", 'r', encoding = \"ISO-8859-1\")\n",
    "\n",
    "def preprocessamentoTest(pergunta):\n",
    "    tokenizer = RegexpTokenizer(r'\\w+')\n",
    "    tokens = tokenizer.tokenize(pergunta)\n",
    "    \n",
    "    tokens = [word for word in tokens]\n",
    "    \n",
    "    return ' '.join(tokens)\n",
    "\n",
    "testSetTokenized = []\n",
    "\n",
    "for pergunta in perguntas_finaisTest:\n",
    "    testSetTokenized.append(preprocessamentoTest(pergunta))\n",
    "    \n",
    "testSet.close()\n",
    "testSet.close()"
   ]
  },
  {
   "cell_type": "code",
   "execution_count": 3,
   "metadata": {},
   "outputs": [
    {
     "data": {
      "text/plain": [
       "dict_keys(['DESC', 'ENTY', 'ABBR', 'HUM', 'NUM', 'LOC'])"
      ]
     },
     "execution_count": 3,
     "metadata": {},
     "output_type": "execute_result"
    }
   ],
   "source": [
    "from collections import Counter\n",
    "\n",
    "Counter(categorias).keys()"
   ]
  },
  {
   "cell_type": "code",
   "execution_count": 4,
   "metadata": {},
   "outputs": [
    {
     "data": {
      "text/plain": [
       "dict_values([211, 244, 18, 220, 151, 156])"
      ]
     },
     "execution_count": 4,
     "metadata": {},
     "output_type": "execute_result"
    }
   ],
   "source": [
    "Counter(categorias).values()"
   ]
  },
  {
   "cell_type": "markdown",
   "metadata": {},
   "source": [
    "## BOW"
   ]
  },
  {
   "cell_type": "code",
   "execution_count": 5,
   "metadata": {},
   "outputs": [
    {
     "name": "stdout",
     "output_type": "stream",
     "text": [
      "(1000, 2699) (500, 2699)\n"
     ]
    }
   ],
   "source": [
    "from sklearn.feature_extraction.text import CountVectorizer\n",
    "\n",
    "vectorizer = CountVectorizer()\n",
    "bow_model  = vectorizer.fit(trainSetTokenized)\n",
    "\n",
    "X_bow_train = bow_model.transform(trainSetTokenized)\n",
    "X_bow_test  = bow_model.transform(testSetTokenized)\n",
    "\n",
    "print(X_bow_train.shape, X_bow_test.shape)"
   ]
  },
  {
   "cell_type": "markdown",
   "metadata": {},
   "source": [
    "## Tf"
   ]
  },
  {
   "cell_type": "code",
   "execution_count": 6,
   "metadata": {},
   "outputs": [
    {
     "name": "stdout",
     "output_type": "stream",
     "text": [
      "(1000, 2699) (500, 2699)\n"
     ]
    }
   ],
   "source": [
    "from sklearn.feature_extraction.text import TfidfVectorizer\n",
    "\n",
    "vectorizer = TfidfVectorizer(use_idf=False)\n",
    "tf_model = vectorizer.fit(trainSetTokenized)\n",
    "\n",
    "X_tf_train = tf_model.transform(trainSetTokenized)\n",
    "X_tf_test  = tf_model.transform(testSetTokenized)\n",
    "\n",
    "print(X_tf_train.shape, X_tf_test.shape)"
   ]
  },
  {
   "cell_type": "markdown",
   "metadata": {},
   "source": [
    "## Tfidf"
   ]
  },
  {
   "cell_type": "code",
   "execution_count": 7,
   "metadata": {},
   "outputs": [
    {
     "name": "stdout",
     "output_type": "stream",
     "text": [
      "(1000, 2699) (500, 2699)\n"
     ]
    }
   ],
   "source": [
    "from sklearn.feature_extraction.text import TfidfVectorizer\n",
    "\n",
    "vectorizer = TfidfVectorizer(use_idf=True)\n",
    "tfidf_model = vectorizer.fit(trainSetTokenized)\n",
    "\n",
    "X_tfidf_train = tfidf_model.transform(trainSetTokenized)\n",
    "X_tfidf_test  = tfidf_model.transform(testSetTokenized)\n",
    "\n",
    "print(X_tfidf_train.shape, X_tfidf_test.shape)"
   ]
  },
  {
   "cell_type": "markdown",
   "metadata": {},
   "source": [
    "# Aplicação dos Métodos"
   ]
  },
  {
   "cell_type": "markdown",
   "metadata": {},
   "source": [
    "## KNN"
   ]
  },
  {
   "cell_type": "code",
   "execution_count": 20,
   "metadata": {},
   "outputs": [],
   "source": [
    "from sklearn.neighbors import KNeighborsClassifier"
   ]
  },
  {
   "cell_type": "code",
   "execution_count": 21,
   "metadata": {},
   "outputs": [
    {
     "name": "stdout",
     "output_type": "stream",
     "text": [
      "Acurácia:  0.658\n",
      "n:  2\n"
     ]
    }
   ],
   "source": [
    "#Com o BOW\n",
    "\n",
    "acc = -1\n",
    "\n",
    "for i in range(2, len(categorias)):\n",
    "    neigh = KNeighborsClassifier(n_neighbors = i, weights = 'distance')\n",
    "    neigh.fit(X_bow_train, categorias)\n",
    "\n",
    "    current_acc = neigh.score(X_bow_test, categoriasTest)\n",
    "    \n",
    "    if(current_acc > acc):\n",
    "        acc = current_acc\n",
    "        n = i\n",
    "\n",
    "print(\"Acurácia: \", acc)\n",
    "print(\"n: \", n)"
   ]
  },
  {
   "cell_type": "code",
   "execution_count": 22,
   "metadata": {},
   "outputs": [
    {
     "name": "stdout",
     "output_type": "stream",
     "text": [
      "Acurácia:  0.738\n",
      "n:  2\n"
     ]
    }
   ],
   "source": [
    "#Com o Tf\n",
    "\n",
    "acc = -1\n",
    "\n",
    "for i in range(2, len(categorias)):\n",
    "    neigh = KNeighborsClassifier(n_neighbors = i, weights = 'distance')\n",
    "    neigh.fit(X_tf_train, categorias)\n",
    "\n",
    "    current_acc = neigh.score(X_tf_test, categoriasTest)\n",
    "    \n",
    "    if(current_acc > acc):\n",
    "        acc = current_acc\n",
    "        n = i\n",
    "\n",
    "print(\"Acurácia: \", acc)\n",
    "print(\"n: \", n)"
   ]
  },
  {
   "cell_type": "code",
   "execution_count": 23,
   "metadata": {},
   "outputs": [
    {
     "name": "stdout",
     "output_type": "stream",
     "text": [
      "Acurácia:  0.754\n",
      "n:  12\n"
     ]
    }
   ],
   "source": [
    "#Com o Tfidf\n",
    "\n",
    "acc = -1\n",
    "\n",
    "for i in range(2, len(categorias)):\n",
    "    neigh = KNeighborsClassifier(n_neighbors = i, weights = 'distance')\n",
    "    neigh.fit(X_tfidf_train, categorias)\n",
    "\n",
    "    current_acc = neigh.score(X_tfidf_test, categoriasTest)\n",
    "    \n",
    "    if(current_acc > acc):\n",
    "        acc = current_acc\n",
    "        n = i\n",
    "\n",
    "print(\"Acurácia: \", acc)\n",
    "print(\"n: \", n)"
   ]
  },
  {
   "cell_type": "markdown",
   "metadata": {},
   "source": [
    "## Naive Bayes"
   ]
  },
  {
   "cell_type": "code",
   "execution_count": 24,
   "metadata": {},
   "outputs": [],
   "source": [
    "from sklearn.naive_bayes import MultinomialNB\n",
    "\n",
    "clf = MultinomialNB()"
   ]
  },
  {
   "cell_type": "code",
   "execution_count": 25,
   "metadata": {},
   "outputs": [
    {
     "name": "stdout",
     "output_type": "stream",
     "text": [
      "Acurácia:  0.542\n"
     ]
    }
   ],
   "source": [
    "#Com o BOW\n",
    "\n",
    "clf.fit(X_bow_train, categorias)\n",
    "\n",
    "acc = clf.score(X_bow_test, categoriasTest)\n",
    "print('Acurácia: ', acc)"
   ]
  },
  {
   "cell_type": "code",
   "execution_count": 26,
   "metadata": {},
   "outputs": [
    {
     "name": "stdout",
     "output_type": "stream",
     "text": [
      "Acurácia:  0.49\n"
     ]
    }
   ],
   "source": [
    "#Com o Tf\n",
    "\n",
    "clf.fit(X_tf_train, categorias)\n",
    "\n",
    "acc = clf.score(X_tf_test, categoriasTest)\n",
    "print('Acurácia: ', acc)"
   ]
  },
  {
   "cell_type": "code",
   "execution_count": 27,
   "metadata": {},
   "outputs": [
    {
     "name": "stdout",
     "output_type": "stream",
     "text": [
      "Acurácia:  0.684\n"
     ]
    }
   ],
   "source": [
    "#Com o Tfidf\n",
    "\n",
    "clf.fit(X_tfidf_train, categorias)\n",
    "\n",
    "acc = clf.score(X_tfidf_test, categoriasTest)\n",
    "print('Acurácia: ', acc)"
   ]
  },
  {
   "cell_type": "markdown",
   "metadata": {},
   "source": [
    "## MLP"
   ]
  },
  {
   "cell_type": "code",
   "execution_count": 13,
   "metadata": {},
   "outputs": [],
   "source": [
    "from sklearn.neural_network import MLPClassifier"
   ]
  },
  {
   "cell_type": "code",
   "execution_count": 17,
   "metadata": {},
   "outputs": [
    {
     "name": "stdout",
     "output_type": "stream",
     "text": [
      "Acurácia:  0.788\n",
      "Número de camadas escondidas:  37\n"
     ]
    }
   ],
   "source": [
    "#Com BOW\n",
    "\n",
    "acc = -1\n",
    "\n",
    "for i in range(2, 101):\n",
    "    mlp = MLPClassifier(solver = 'lbfgs', hidden_layer_sizes = (i), random_state = 0)\n",
    "    mlp.fit(X_bow_train, categorias)\n",
    "\n",
    "    current_acc = mlp.score(X_bow_test, categoriasTest)\n",
    "    \n",
    "    if(current_acc > acc):\n",
    "        acc = current_acc\n",
    "        n = i\n",
    "\n",
    "print('Acurácia: ', acc)\n",
    "print('Número de camadas escondidas: ', n)"
   ]
  },
  {
   "cell_type": "code",
   "execution_count": 18,
   "metadata": {},
   "outputs": [
    {
     "name": "stdout",
     "output_type": "stream",
     "text": [
      "Acurácia:  0.792\n",
      "Número de camadas escondidas:  4\n"
     ]
    }
   ],
   "source": [
    "#Com o Tf\n",
    "\n",
    "acc= -1\n",
    "\n",
    "for i in range(2, 101):\n",
    "    mlp = MLPClassifier(solver = 'lbfgs', hidden_layer_sizes = (i), random_state = 0)\n",
    "    mlp.fit(X_tf_train, categorias)\n",
    "\n",
    "    current_acc = mlp.score(X_tf_test, categoriasTest)\n",
    "    \n",
    "    if(current_acc > acc):\n",
    "        acc = current_acc\n",
    "        n = i\n",
    "\n",
    "print('Acurácia: ', acc)\n",
    "print('Número de camadas escondidas: ', n)"
   ]
  },
  {
   "cell_type": "code",
   "execution_count": 19,
   "metadata": {},
   "outputs": [
    {
     "name": "stdout",
     "output_type": "stream",
     "text": [
      "Acurácia:  0.81\n",
      "Número de camadas escondidas:  64\n"
     ]
    }
   ],
   "source": [
    "#Com o Tfidf\n",
    "\n",
    "acc = -1\n",
    "\n",
    "for i in range(2, 101):\n",
    "    mlp = MLPClassifier(solver = 'lbfgs', hidden_layer_sizes = (i), random_state = 0)\n",
    "    mlp.fit(X_tfidf_train, categorias)\n",
    "\n",
    "    current_acc = mlp.score(X_tfidf_test, categoriasTest)\n",
    "    \n",
    "    if(current_acc > acc):\n",
    "        acc = current_acc\n",
    "        n = i\n",
    "\n",
    "print('Acurácia: ', acc)\n",
    "print('Número de camadas escondidas: ', n)"
   ]
  }
 ],
 "metadata": {
  "kernelspec": {
   "display_name": "Python 3",
   "language": "python",
   "name": "python3"
  },
  "language_info": {
   "codemirror_mode": {
    "name": "ipython",
    "version": 3
   },
   "file_extension": ".py",
   "mimetype": "text/x-python",
   "name": "python",
   "nbconvert_exporter": "python",
   "pygments_lexer": "ipython3",
   "version": "3.6.5"
  }
 },
 "nbformat": 4,
 "nbformat_minor": 2
}
